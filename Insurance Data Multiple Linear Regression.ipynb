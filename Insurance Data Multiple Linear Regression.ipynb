{
 "cells": [
  {
   "cell_type": "code",
   "execution_count": null,
   "id": "4bcc7d3c",
   "metadata": {},
   "outputs": [],
   "source": [
    "# Use Case: Predicting the Profit of Insurance company using disfferent Policy Type\n",
    "# Model used: Multiple Linear Regression "
   ]
  },
  {
   "cell_type": "markdown",
   "id": "ca982698",
   "metadata": {},
   "source": [
    "# Importing the libraries and dataset¶ "
   ]
  },
  {
   "cell_type": "code",
   "execution_count": 41,
   "id": "68764353",
   "metadata": {},
   "outputs": [
    {
     "name": "stdout",
     "output_type": "stream",
     "text": [
      "            Policy Type  Premium Amount  Claims Amount  Number of Policies  \\\n",
      "0        Auto Insurance            1200            300                 100   \n",
      "1        Home Insurance            1500            500                  80   \n",
      "2        Life Insurance            2000            200                  50   \n",
      "3      Health Insurance            2500            600                  70   \n",
      "4      Travel Insurance             800            100                 120   \n",
      "5  Commercial Insurance            3000           1000                  30   \n",
      "6         Pet Insurance             600             50                 200   \n",
      "\n",
      "   Customer Satisfaction Score  Profit (in $)  \n",
      "0                          4.5            900  \n",
      "1                          4.0           1000  \n",
      "2                          4.8           1800  \n",
      "3                          3.5           1900  \n",
      "4                          4.2            700  \n",
      "5                          4.6           2000  \n",
      "6                          4.1            550  \n"
     ]
    }
   ],
   "source": [
    "import pandas as pd\n",
    "import numpy as np\n",
    "import matplotlib.pyplot as plt \n",
    "ds = pd.read_excel('Insurance_Sample_Data.xlsx')\n",
    "X = ds.iloc[:, :-1].values\n",
    "Y = ds.iloc[:, -1].values\n",
    "print(ds)"
   ]
  },
  {
   "cell_type": "code",
   "execution_count": 42,
   "id": "7e78bb0a",
   "metadata": {},
   "outputs": [
    {
     "name": "stdout",
     "output_type": "stream",
     "text": [
      "[['Auto Insurance' 1200 300 100 4.5]\n",
      " ['Home Insurance' 1500 500 80 4.0]\n",
      " ['Life Insurance' 2000 200 50 4.8]\n",
      " ['Health Insurance' 2500 600 70 3.5]\n",
      " ['Travel Insurance' 800 100 120 4.2]\n",
      " ['Commercial Insurance' 3000 1000 30 4.6]\n",
      " ['Pet Insurance' 600 50 200 4.1]]\n"
     ]
    }
   ],
   "source": [
    "print(X)"
   ]
  },
  {
   "cell_type": "code",
   "execution_count": 43,
   "id": "35532969",
   "metadata": {},
   "outputs": [
    {
     "name": "stdout",
     "output_type": "stream",
     "text": [
      "[ 900 1000 1800 1900  700 2000  550]\n"
     ]
    }
   ],
   "source": [
    "print(Y)"
   ]
  },
  {
   "cell_type": "markdown",
   "id": "9a4a03bc",
   "metadata": {},
   "source": [
    "# Tacking care of missing data\n",
    "if we have large dataset and 1% of missing data we can just ignore it\n",
    "or update missing value with avg of salary"
   ]
  },
  {
   "cell_type": "code",
   "execution_count": 44,
   "id": "6e54882b",
   "metadata": {},
   "outputs": [
    {
     "name": "stdout",
     "output_type": "stream",
     "text": [
      "[['Auto Insurance' 1200.0 300.0 100.0 4.5]\n",
      " ['Home Insurance' 1500.0 500.0 80.0 4.0]\n",
      " ['Life Insurance' 2000.0 200.0 50.0 4.8]\n",
      " ['Health Insurance' 2500.0 600.0 70.0 3.5]\n",
      " ['Travel Insurance' 800.0 100.0 120.0 4.2]\n",
      " ['Commercial Insurance' 3000.0 1000.0 30.0 4.6]\n",
      " ['Pet Insurance' 600.0 50.0 200.0 4.1]]\n"
     ]
    }
   ],
   "source": [
    "from sklearn.impute import SimpleImputer\n",
    "imputer = SimpleImputer(missing_values = np.nan, strategy = 'mean')\n",
    "imputer.fit(X[:,1:-1])\n",
    "X[:, 1:-1] = imputer.transform(X[:,1:-1])\n",
    "print(X)"
   ]
  },
  {
   "cell_type": "markdown",
   "id": "311951d3",
   "metadata": {},
   "source": [
    "# Encoding Categorical Data \n",
    "in features any categorical data(i.e string value) is present we have to convert it to number format."
   ]
  },
  {
   "cell_type": "code",
   "execution_count": 46,
   "id": "9e15d262",
   "metadata": {},
   "outputs": [
    {
     "name": "stdout",
     "output_type": "stream",
     "text": [
      "[[1.0 0.0 0.0 0.0 0.0 0.0 0.0 1200.0 300.0 100.0 4.5]\n",
      " [0.0 0.0 0.0 1.0 0.0 0.0 0.0 1500.0 500.0 80.0 4.0]\n",
      " [0.0 0.0 0.0 0.0 1.0 0.0 0.0 2000.0 200.0 50.0 4.8]\n",
      " [0.0 0.0 1.0 0.0 0.0 0.0 0.0 2500.0 600.0 70.0 3.5]\n",
      " [0.0 0.0 0.0 0.0 0.0 0.0 1.0 800.0 100.0 120.0 4.2]\n",
      " [0.0 1.0 0.0 0.0 0.0 0.0 0.0 3000.0 1000.0 30.0 4.6]\n",
      " [0.0 0.0 0.0 0.0 0.0 1.0 0.0 600.0 50.0 200.0 4.1]]\n"
     ]
    }
   ],
   "source": [
    "#Encoding Independent variable\n",
    "from sklearn.compose import ColumnTransformer\n",
    "from sklearn.preprocessing import OneHotEncoder\n",
    "ct = ColumnTransformer(transformers = [('encoder',OneHotEncoder(), [0])] , remainder = 'passthrough')\n",
    "X = np.array(ct.fit_transform(X))\n",
    "print(X)"
   ]
  },
  {
   "cell_type": "markdown",
   "id": "00a85ff4",
   "metadata": {},
   "source": [
    "# Splitting the dataset into the Training and Test set"
   ]
  },
  {
   "cell_type": "code",
   "execution_count": 47,
   "id": "b06cd149",
   "metadata": {},
   "outputs": [
    {
     "name": "stdout",
     "output_type": "stream",
     "text": [
      "[[0.0 0.0 0.0 1.0 0.0 0.0 0.0 1500.0 500.0 80.0 4.0]\n",
      " [1.0 0.0 0.0 0.0 0.0 0.0 0.0 1200.0 300.0 100.0 4.5]\n",
      " [0.0 0.0 0.0 0.0 0.0 0.0 1.0 800.0 100.0 120.0 4.2]\n",
      " [0.0 0.0 1.0 0.0 0.0 0.0 0.0 2500.0 600.0 70.0 3.5]\n",
      " [0.0 1.0 0.0 0.0 0.0 0.0 0.0 3000.0 1000.0 30.0 4.6]]\n"
     ]
    }
   ],
   "source": [
    "from sklearn.model_selection import train_test_split\n",
    "X_train, X_test, Y_train, Y_test = train_test_split(X, Y, test_size = 0.2, random_state = 1)\n",
    "print(X_train)"
   ]
  },
  {
   "cell_type": "code",
   "execution_count": 48,
   "id": "859f8c89",
   "metadata": {},
   "outputs": [
    {
     "name": "stdout",
     "output_type": "stream",
     "text": [
      "[[0.0 0.0 0.0 0.0 0.0 1.0 0.0 600.0 50.0 200.0 4.1]\n",
      " [0.0 0.0 0.0 0.0 1.0 0.0 0.0 2000.0 200.0 50.0 4.8]]\n"
     ]
    }
   ],
   "source": [
    "print(X_test)"
   ]
  },
  {
   "cell_type": "code",
   "execution_count": 49,
   "id": "ec14a88c",
   "metadata": {},
   "outputs": [
    {
     "name": "stdout",
     "output_type": "stream",
     "text": [
      "[1000  900  700 1900 2000]\n"
     ]
    }
   ],
   "source": [
    "print(Y_train)"
   ]
  },
  {
   "cell_type": "code",
   "execution_count": 50,
   "id": "ecaba8eb",
   "metadata": {},
   "outputs": [
    {
     "name": "stdout",
     "output_type": "stream",
     "text": [
      "[ 550 1800]\n"
     ]
    }
   ],
   "source": [
    "print(Y_test)"
   ]
  },
  {
   "cell_type": "markdown",
   "id": "4605c12a",
   "metadata": {},
   "source": [
    "# Feature Scaling"
   ]
  },
  {
   "cell_type": "code",
   "execution_count": 51,
   "id": "ff374699",
   "metadata": {},
   "outputs": [],
   "source": [
    "#feature scaling is not requrired for this dataset since it has only one independent categorical value and one numerical column"
   ]
  },
  {
   "cell_type": "markdown",
   "id": "73418e88",
   "metadata": {},
   "source": [
    "# Training the Multiple linear regression model on the Training set"
   ]
  },
  {
   "cell_type": "code",
   "execution_count": 52,
   "id": "1057ad28",
   "metadata": {
    "scrolled": true
   },
   "outputs": [
    {
     "data": {
      "text/html": [
       "<style>#sk-container-id-4 {color: black;}#sk-container-id-4 pre{padding: 0;}#sk-container-id-4 div.sk-toggleable {background-color: white;}#sk-container-id-4 label.sk-toggleable__label {cursor: pointer;display: block;width: 100%;margin-bottom: 0;padding: 0.3em;box-sizing: border-box;text-align: center;}#sk-container-id-4 label.sk-toggleable__label-arrow:before {content: \"▸\";float: left;margin-right: 0.25em;color: #696969;}#sk-container-id-4 label.sk-toggleable__label-arrow:hover:before {color: black;}#sk-container-id-4 div.sk-estimator:hover label.sk-toggleable__label-arrow:before {color: black;}#sk-container-id-4 div.sk-toggleable__content {max-height: 0;max-width: 0;overflow: hidden;text-align: left;background-color: #f0f8ff;}#sk-container-id-4 div.sk-toggleable__content pre {margin: 0.2em;color: black;border-radius: 0.25em;background-color: #f0f8ff;}#sk-container-id-4 input.sk-toggleable__control:checked~div.sk-toggleable__content {max-height: 200px;max-width: 100%;overflow: auto;}#sk-container-id-4 input.sk-toggleable__control:checked~label.sk-toggleable__label-arrow:before {content: \"▾\";}#sk-container-id-4 div.sk-estimator input.sk-toggleable__control:checked~label.sk-toggleable__label {background-color: #d4ebff;}#sk-container-id-4 div.sk-label input.sk-toggleable__control:checked~label.sk-toggleable__label {background-color: #d4ebff;}#sk-container-id-4 input.sk-hidden--visually {border: 0;clip: rect(1px 1px 1px 1px);clip: rect(1px, 1px, 1px, 1px);height: 1px;margin: -1px;overflow: hidden;padding: 0;position: absolute;width: 1px;}#sk-container-id-4 div.sk-estimator {font-family: monospace;background-color: #f0f8ff;border: 1px dotted black;border-radius: 0.25em;box-sizing: border-box;margin-bottom: 0.5em;}#sk-container-id-4 div.sk-estimator:hover {background-color: #d4ebff;}#sk-container-id-4 div.sk-parallel-item::after {content: \"\";width: 100%;border-bottom: 1px solid gray;flex-grow: 1;}#sk-container-id-4 div.sk-label:hover label.sk-toggleable__label {background-color: #d4ebff;}#sk-container-id-4 div.sk-serial::before {content: \"\";position: absolute;border-left: 1px solid gray;box-sizing: border-box;top: 0;bottom: 0;left: 50%;z-index: 0;}#sk-container-id-4 div.sk-serial {display: flex;flex-direction: column;align-items: center;background-color: white;padding-right: 0.2em;padding-left: 0.2em;position: relative;}#sk-container-id-4 div.sk-item {position: relative;z-index: 1;}#sk-container-id-4 div.sk-parallel {display: flex;align-items: stretch;justify-content: center;background-color: white;position: relative;}#sk-container-id-4 div.sk-item::before, #sk-container-id-4 div.sk-parallel-item::before {content: \"\";position: absolute;border-left: 1px solid gray;box-sizing: border-box;top: 0;bottom: 0;left: 50%;z-index: -1;}#sk-container-id-4 div.sk-parallel-item {display: flex;flex-direction: column;z-index: 1;position: relative;background-color: white;}#sk-container-id-4 div.sk-parallel-item:first-child::after {align-self: flex-end;width: 50%;}#sk-container-id-4 div.sk-parallel-item:last-child::after {align-self: flex-start;width: 50%;}#sk-container-id-4 div.sk-parallel-item:only-child::after {width: 0;}#sk-container-id-4 div.sk-dashed-wrapped {border: 1px dashed gray;margin: 0 0.4em 0.5em 0.4em;box-sizing: border-box;padding-bottom: 0.4em;background-color: white;}#sk-container-id-4 div.sk-label label {font-family: monospace;font-weight: bold;display: inline-block;line-height: 1.2em;}#sk-container-id-4 div.sk-label-container {text-align: center;}#sk-container-id-4 div.sk-container {/* jupyter's `normalize.less` sets `[hidden] { display: none; }` but bootstrap.min.css set `[hidden] { display: none !important; }` so we also need the `!important` here to be able to override the default hidden behavior on the sphinx rendered scikit-learn.org. See: https://github.com/scikit-learn/scikit-learn/issues/21755 */display: inline-block !important;position: relative;}#sk-container-id-4 div.sk-text-repr-fallback {display: none;}</style><div id=\"sk-container-id-4\" class=\"sk-top-container\"><div class=\"sk-text-repr-fallback\"><pre>LinearRegression()</pre><b>In a Jupyter environment, please rerun this cell to show the HTML representation or trust the notebook. <br />On GitHub, the HTML representation is unable to render, please try loading this page with nbviewer.org.</b></div><div class=\"sk-container\" hidden><div class=\"sk-item\"><div class=\"sk-estimator sk-toggleable\"><input class=\"sk-toggleable__control sk-hidden--visually\" id=\"sk-estimator-id-4\" type=\"checkbox\" checked><label for=\"sk-estimator-id-4\" class=\"sk-toggleable__label sk-toggleable__label-arrow\">LinearRegression</label><div class=\"sk-toggleable__content\"><pre>LinearRegression()</pre></div></div></div></div></div>"
      ],
      "text/plain": [
       "LinearRegression()"
      ]
     },
     "execution_count": 52,
     "metadata": {},
     "output_type": "execute_result"
    }
   ],
   "source": [
    "from sklearn.linear_model import LinearRegression\n",
    "regressor = LinearRegression()\n",
    "regressor.fit(X_train, Y_train)"
   ]
  },
  {
   "cell_type": "markdown",
   "id": "c360bb58",
   "metadata": {},
   "source": [
    "# Predicting the Test set result"
   ]
  },
  {
   "cell_type": "code",
   "execution_count": 53,
   "id": "ddfa482f",
   "metadata": {},
   "outputs": [
    {
     "name": "stdout",
     "output_type": "stream",
     "text": [
      "[[ 557.42  550.  ]\n",
      " [1794.04 1800.  ]]\n"
     ]
    }
   ],
   "source": [
    "y_pred = regressor.predict(X_test)\n",
    "np.set_printoptions(precision=2)\n",
    "print(np.concatenate((y_pred.reshape(len(y_pred),1), Y_test.reshape(len(Y_test),1)), 1))      \n",
    "\n",
    "#reshape allows to display vertical to horizontal and viceversa, axis=0 means vertical and axis=1 is horizontal concatination))"
   ]
  },
  {
   "cell_type": "code",
   "execution_count": 56,
   "id": "50223ab8",
   "metadata": {},
   "outputs": [
    {
     "name": "stdout",
     "output_type": "stream",
     "text": [
      "[43021.21]\n"
     ]
    }
   ],
   "source": [
    "print(regressor.predict([[1.0, 0.0, 0.0, 0.0, 0.0, 0.0, 0.0, 45000, 2000, 150, 4.2]]))\n"
   ]
  },
  {
   "cell_type": "code",
   "execution_count": null,
   "id": "614f2438",
   "metadata": {},
   "outputs": [],
   "source": [
    "# if we have Auto Insurance of Premium amount $45000 and claims amount as $2000, number of policies as 150, and customer satisfaction score of 4.2\n",
    "# then AIG will get profit of $ 43021"
   ]
  },
  {
   "cell_type": "code",
   "execution_count": 57,
   "id": "31392a53",
   "metadata": {},
   "outputs": [
    {
     "name": "stdout",
     "output_type": "stream",
     "text": [
      "[ 2.12e-04 -1.47e-03  4.41e-03 -4.79e-03  0.00e+00  0.00e+00  1.63e-03\n",
      "  1.00e+00 -9.90e-01  9.90e-02 -2.66e-03]\n"
     ]
    }
   ],
   "source": [
    "print(regressor.coef_)"
   ]
  },
  {
   "cell_type": "code",
   "execution_count": 58,
   "id": "3efc0c28",
   "metadata": {},
   "outputs": [
    {
     "name": "stdout",
     "output_type": "stream",
     "text": [
      "-12.853631188019563\n"
     ]
    }
   ],
   "source": [
    "print(regressor.intercept_)"
   ]
  },
  {
   "cell_type": "code",
   "execution_count": null,
   "id": "d82f58cf",
   "metadata": {},
   "outputs": [],
   "source": []
  }
 ],
 "metadata": {
  "kernelspec": {
   "display_name": "Python 3 (ipykernel)",
   "language": "python",
   "name": "python3"
  },
  "language_info": {
   "codemirror_mode": {
    "name": "ipython",
    "version": 3
   },
   "file_extension": ".py",
   "mimetype": "text/x-python",
   "name": "python",
   "nbconvert_exporter": "python",
   "pygments_lexer": "ipython3",
   "version": "3.11.4"
  }
 },
 "nbformat": 4,
 "nbformat_minor": 5
}
